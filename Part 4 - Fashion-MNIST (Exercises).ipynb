{
 "cells": [
  {
   "cell_type": "markdown",
   "metadata": {},
   "source": [
    "# Classifying Fashion-MNIST\n",
    "\n",
    "Now it's your turn to build and train a neural network. You'll be using the [Fashion-MNIST dataset](https://github.com/zalandoresearch/fashion-mnist), a drop-in replacement for the MNIST dataset. MNIST is actually quite trivial with neural networks where you can easily achieve better than 97% accuracy. Fashion-MNIST is a set of 28x28 greyscale images of clothes. It's more complex than MNIST, so it's a better representation of the actual performance of your network, and a better representation of datasets you'll use in the real world.\n",
    "\n",
    "<img src='assets/fashion-mnist-sprite.png' width=500px>\n",
    "\n",
    "In this notebook, you'll build your own neural network. For the most part, you could just copy and paste the code from Part 3, but you wouldn't be learning. It's important for you to write the code yourself and get it to work. Feel free to consult the previous notebooks though as you work through this.\n",
    "\n",
    "First off, let's load the dataset through torchvision."
   ]
  },
  {
   "cell_type": "code",
   "execution_count": 42,
   "metadata": {},
   "outputs": [],
   "source": [
    "import torch\n",
    "from torchvision import datasets, transforms\n",
    "import helper\n",
    "\n",
    "# Define a transform to normalize the data\n",
    "transform = transforms.Compose([transforms.ToTensor(),\n",
    "                                transforms.Normalize((0.5,), (0.5,))])\n",
    "# Download and load the training data\n",
    "trainset = datasets.FashionMNIST('~/.pytorch/F_MNIST_data/', download=True, train=True, transform=transform)\n",
    "trainloader = torch.utils.data.DataLoader(trainset, batch_size=64, shuffle=True)\n",
    "\n",
    "# Download and load the test data\n",
    "testset = datasets.FashionMNIST('~/.pytorch/F_MNIST_data/', download=True, train=False, transform=transform)\n",
    "testloader = torch.utils.data.DataLoader(testset, batch_size=64, shuffle=True)"
   ]
  },
  {
   "cell_type": "markdown",
   "metadata": {},
   "source": [
    "Here we can see one of the images."
   ]
  },
  {
   "cell_type": "code",
   "execution_count": 43,
   "metadata": {},
   "outputs": [
    {
     "data": {
      "image/png": "[encoded data removed]",
      "text/plain": [
       "<Figure size 432x288 with 1 Axes>"
      ]
     },
     "metadata": {
      "image/png": {
       "height": 231,
       "width": 231
      },
      "needs_background": "light"
     },
     "output_type": "display_data"
    }
   ],
   "source": [
    "image, label = next(iter(trainloader))\n",
    "helper.imshow(image[0,:]);"
   ]
  },
  {
   "cell_type": "markdown",
   "metadata": {},
   "source": [
    "## Building the network\n",
    "\n",
    "Here you should define your network. As with MNIST, each image is 28x28 which is a total of 784 pixels, and there are 10 classes. You should include at least one hidden layer. We suggest you use ReLU activations for the layers and to return the logits or log-softmax from the forward pass. It's up to you how many layers you add and the size of those layers."
   ]
  },
  {
   "cell_type": "code",
   "execution_count": 44,
   "metadata": {},
   "outputs": [],
   "source": [
    "# TODO: Define your network architecture here\n",
    "from torch import nn\n",
    "model = nn.Sequential(nn.Linear(784, 128),\n",
    "                      nn.ReLU(),\n",
    "                      nn.Linear(128, 64),\n",
    "                      nn.ReLU(),\n",
    "                      nn.Linear(64, 64),\n",
    "                      nn.ReLU(),\n",
    "                      nn.Linear(64, 10),\n",
    "                      nn.LogSoftmax(dim=1))\n"
   ]
  },
  {
   "cell_type": "markdown",
   "metadata": {},
   "source": [
    "# Train the network\n",
    "\n",
    "Now you should create your network and train it. First you'll want to define [the criterion](http://pytorch.org/docs/master/nn.html#loss-functions) ( something like `nn.CrossEntropyLoss`) and [the optimizer](http://pytorch.org/docs/master/optim.html) (typically `optim.SGD` or `optim.Adam`).\n",
    "\n",
    "Then write the training code. Remember the training pass is a fairly straightforward process:\n",
    "\n",
    "* Make a forward pass through the network to get the logits \n",
    "* Use the logits to calculate the loss\n",
    "* Perform a backward pass through the network with `loss.backward()` to calculate the gradients\n",
    "* Take a step with the optimizer to update the weights\n",
    "\n",
    "By adjusting the hyperparameters (hidden units, learning rate, etc), you should be able to get the training loss below 0.4."
   ]
  },
  {
   "cell_type": "code",
   "execution_count": 45,
   "metadata": {},
   "outputs": [],
   "source": [
    "# TODO: Create the network, define the criterion and optimizer\n",
    "from torch import optim\n",
    "criterion = nn.NLLLoss()\n",
    "optimizer = optim.SGD(model.parameters(), lr=0.005)"
   ]
  },
  {
   "cell_type": "code",
   "execution_count": 46,
   "metadata": {},
   "outputs": [
    {
     "name": "stdout",
     "output_type": "stream",
     "text": [
      "Epoch 1: ------------------------------------- Running Loss: 1.7893019545434126\n",
      "Epoch 2: ------------------------------------- Running Loss: 0.8146611494041963\n",
      "Epoch 3: ------------------------------------- Running Loss: 0.6442007808479419\n",
      "Epoch 4: ------------------------------------- Running Loss: 0.5787443394727035\n",
      "Epoch 5: ------------------------------------- Running Loss: 0.5361390705111184\n",
      "Epoch 6: ------------------------------------- Running Loss: 0.5041212200292392\n",
      "Epoch 7: ------------------------------------- Running Loss: 0.4812057492480095\n",
      "Epoch 8: ------------------------------------- Running Loss: 0.4637680724263191\n",
      "Epoch 9: ------------------------------------- Running Loss: 0.44941387651190323\n",
      "Epoch 10: ------------------------------------- Running Loss: 0.43696398400802855\n",
      "Epoch 11: ------------------------------------- Running Loss: 0.4254726307955124\n",
      "Epoch 12: ------------------------------------- Running Loss: 0.4163377732197359\n",
      "Epoch 13: ------------------------------------- Running Loss: 0.4080194605947303\n",
      "Epoch 14: ------------------------------------- Running Loss: 0.40005544364960716\n",
      "Epoch 15: ------------------------------------- Running Loss: 0.3928947921977369\n",
      "Epoch 16: ------------------------------------- Running Loss: 0.3867739339404777\n",
      "Epoch 17: ------------------------------------- Running Loss: 0.3801554932809079\n",
      "Epoch 18: ------------------------------------- Running Loss: 0.3753567078887527\n",
      "Epoch 19: ------------------------------------- Running Loss: 0.3691085578996871\n",
      "Epoch 20: ------------------------------------- Running Loss: 0.3638023374113701\n",
      "Epoch 21: ------------------------------------- Running Loss: 0.3588708137779602\n",
      "Epoch 22: ------------------------------------- Running Loss: 0.3541419211226994\n",
      "Epoch 23: ------------------------------------- Running Loss: 0.34914904917830597\n",
      "Epoch 24: ------------------------------------- Running Loss: 0.34498031260267\n",
      "Epoch 25: ------------------------------------- Running Loss: 0.34077442257897433\n",
      "Epoch 26: ------------------------------------- Running Loss: 0.33661072817978577\n",
      "Epoch 27: ------------------------------------- Running Loss: 0.3324558802091999\n",
      "Epoch 28: ------------------------------------- Running Loss: 0.32770044358967465\n",
      "Epoch 29: ------------------------------------- Running Loss: 0.32470665713236024\n",
      "Epoch 30: ------------------------------------- Running Loss: 0.3209714591423713\n",
      "Epoch 31: ------------------------------------- Running Loss: 0.3180959723365586\n",
      "Epoch 32: ------------------------------------- Running Loss: 0.31363650444728225\n",
      "Epoch 33: ------------------------------------- Running Loss: 0.31124597327160175\n",
      "Epoch 34: ------------------------------------- Running Loss: 0.3071217436446691\n",
      "Epoch 35: ------------------------------------- Running Loss: 0.30465230689660067\n",
      "Epoch 36: ------------------------------------- Running Loss: 0.3014508391271776\n",
      "Epoch 37: ------------------------------------- Running Loss: 0.29800026736724605\n",
      "Epoch 38: ------------------------------------- Running Loss: 0.2959142535734278\n",
      "Epoch 39: ------------------------------------- Running Loss: 0.29167762157251076\n",
      "Epoch 40: ------------------------------------- Running Loss: 0.28926012875524154\n",
      "Epoch 41: ------------------------------------- Running Loss: 0.2861146266574163\n",
      "Epoch 42: ------------------------------------- Running Loss: 0.2842642187373216\n",
      "Epoch 43: ------------------------------------- Running Loss: 0.2808919637394485\n",
      "Epoch 44: ------------------------------------- Running Loss: 0.2783013357600169\n",
      "Epoch 45: ------------------------------------- Running Loss: 0.2757824504378635\n",
      "Epoch 46: ------------------------------------- Running Loss: 0.2733537511451285\n",
      "Epoch 47: ------------------------------------- Running Loss: 0.2708629986354664\n",
      "Epoch 48: ------------------------------------- Running Loss: 0.26760435034074126\n",
      "Epoch 49: ------------------------------------- Running Loss: 0.2660934910861287\n",
      "Epoch 50: ------------------------------------- Running Loss: 0.26331927540745814\n",
      "Epoch 51: ------------------------------------- Running Loss: 0.26089335526865937\n",
      "Epoch 52: ------------------------------------- Running Loss: 0.25838214586347913\n",
      "Epoch 53: ------------------------------------- Running Loss: 0.2564750776838646\n",
      "Epoch 54: ------------------------------------- Running Loss: 0.2536255155465623\n",
      "Epoch 55: ------------------------------------- Running Loss: 0.2511043326893468\n",
      "Epoch 56: ------------------------------------- Running Loss: 0.24902000937507604\n",
      "Epoch 57: ------------------------------------- Running Loss: 0.2463942420110901\n",
      "Epoch 58: ------------------------------------- Running Loss: 0.2449034132730605\n",
      "Epoch 59: ------------------------------------- Running Loss: 0.24315143958020058\n",
      "Epoch 60: ------------------------------------- Running Loss: 0.24065414503979277\n",
      "Epoch 61: ------------------------------------- Running Loss: 0.2384402401673832\n",
      "Epoch 62: ------------------------------------- Running Loss: 0.23635395046776292\n",
      "Epoch 63: ------------------------------------- Running Loss: 0.2338374742964056\n",
      "Epoch 64: ------------------------------------- Running Loss: 0.2325303910304107\n",
      "Epoch 65: ------------------------------------- Running Loss: 0.2307108861566988\n",
      "Epoch 66: ------------------------------------- Running Loss: 0.22885997881735565\n",
      "Epoch 67: ------------------------------------- Running Loss: 0.22655467919782915\n",
      "Epoch 68: ------------------------------------- Running Loss: 0.22420475380951915\n",
      "Epoch 69: ------------------------------------- Running Loss: 0.22281047679595092\n",
      "Epoch 70: ------------------------------------- Running Loss: 0.22134738328503267\n",
      "Epoch 71: ------------------------------------- Running Loss: 0.21851503389126964\n",
      "Epoch 72: ------------------------------------- Running Loss: 0.2160746600192938\n",
      "Epoch 73: ------------------------------------- Running Loss: 0.2147493898582611\n",
      "Epoch 74: ------------------------------------- Running Loss: 0.21416809044873664\n",
      "Epoch 75: ------------------------------------- Running Loss: 0.21114341735140854\n",
      "Epoch 76: ------------------------------------- Running Loss: 0.2098197976568106\n",
      "Epoch 77: ------------------------------------- Running Loss: 0.20802686991356711\n",
      "Epoch 78: ------------------------------------- Running Loss: 0.20611780103065694\n",
      "Epoch 79: ------------------------------------- Running Loss: 0.20414481619829689\n",
      "Epoch 80: ------------------------------------- Running Loss: 0.20206252921984266\n",
      "Epoch 81: ------------------------------------- Running Loss: 0.20118149271461247\n",
      "Epoch 82: ------------------------------------- Running Loss: 0.19906421658644544\n",
      "Epoch 83: ------------------------------------- Running Loss: 0.19626612078025144\n",
      "Epoch 84: ------------------------------------- Running Loss: 0.19460030101430315\n",
      "Epoch 85: ------------------------------------- Running Loss: 0.19368507667605492\n",
      "Epoch 86: ------------------------------------- Running Loss: 0.19246078172583442\n",
      "Epoch 87: ------------------------------------- Running Loss: 0.190944227944019\n",
      "Epoch 88: ------------------------------------- Running Loss: 0.18828333321728433\n",
      "Epoch 89: ------------------------------------- Running Loss: 0.18666196562874038\n",
      "Epoch 90: ------------------------------------- Running Loss: 0.18654951965535627\n",
      "Epoch 91: ------------------------------------- Running Loss: 0.1838058415355522\n",
      "Epoch 92: ------------------------------------- Running Loss: 0.18123029203398394\n",
      "Epoch 93: ------------------------------------- Running Loss: 0.18038094426983836\n",
      "Epoch 94: ------------------------------------- Running Loss: 0.1794460164422769\n",
      "Epoch 95: ------------------------------------- Running Loss: 0.17796871584377436\n",
      "Epoch 96: ------------------------------------- Running Loss: 0.17615641669026696\n",
      "Epoch 97: ------------------------------------- Running Loss: 0.17419744922773545\n",
      "Epoch 98: ------------------------------------- Running Loss: 0.17379295874808007\n",
      "Epoch 99: ------------------------------------- Running Loss: 0.17143217867403143\n",
      "Epoch 100: ------------------------------------- Running Loss: 0.1688815086786109\n"
     ]
    }
   ],
   "source": [
    "# TODO: Train the network here\n",
    "epochs = 100\n",
    "for e in range(epochs):\n",
    "    running_loss = 0\n",
    "    for images, labels in trainloader:\n",
    "        optimizer.zero_grad()\n",
    "        images = images.view(images.shape[0], -1)\n",
    "        output = model.forward(images)\n",
    "        loss = criterion(output, labels)\n",
    "        loss.backward()\n",
    "        running_loss += loss.item()\n",
    "        optimizer.step()\n",
    "    else:\n",
    "        print(f\"Epoch {e+1}: ------------------------------------- Running Loss: {running_loss/len(trainloader)}\")\n",
    "        "
   ]
  },
  {
   "cell_type": "code",
   "execution_count": 50,
   "metadata": {},
   "outputs": [
    {
     "data": {
      "image/png": "[encoded data removed]",
      "text/plain": [
       "<Figure size 432x648 with 2 Axes>"
      ]
     },
     "metadata": {
      "image/png": {
       "height": 216,
       "width": 424
      },
      "needs_background": "light"
     },
     "output_type": "display_data"
    }
   ],
   "source": [
    "%matplotlib inline\n",
    "%config InlineBackend.figure_format = 'retina'\n",
    "\n",
    "import helper\n",
    "\n",
    "# Test out your network!\n",
    "\n",
    "dataiter = iter(testloader)\n",
    "images, labels = dataiter.next()\n",
    "img = images[0]\n",
    "# Convert 2D image to 1D vector\n",
    "img = img.resize_(1, 784)\n",
    "\n",
    "# TODO: Calculate the class probabilities (softmax) for img\n",
    "ps = torch.exp(model(img))\n",
    "\n",
    "# Plot the image and probabilities\n",
    "helper.view_classify(img.resize_(1, 28, 28), ps, version='Fashion')"
   ]
  },
  {
   "cell_type": "code",
   "execution_count": null,
   "metadata": {},
   "outputs": [],
   "source": []
  }
 ],
 "metadata": {
  "kernelspec": {
   "display_name": "Python 3",
   "language": "python",
   "name": "python3"
  },
  "language_info": {
   "codemirror_mode": {
    "name": "ipython",
    "version": 3
   },
   "file_extension": ".py",
   "mimetype": "text/x-python",
   "name": "python",
   "nbconvert_exporter": "python",
   "pygments_lexer": "ipython3",
   "version": "3.7.4"
  }
 },
 "nbformat": 4,
 "nbformat_minor": 2
}
